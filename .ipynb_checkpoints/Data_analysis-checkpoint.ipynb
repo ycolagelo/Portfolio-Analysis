{
 "cells": [
  {
   "cell_type": "code",
   "execution_count": null,
   "id": "f23191d8-ff47-4665-8c06-ca94acf451cd",
   "metadata": {},
   "outputs": [],
   "source": [
    "import pandas as pd\n",
    "from pathlib import Path\n",
    "import numpy as np\n",
    "import datetime as dt\n",
    "\n",
    "%matplotlib inline"
   ]
  },
  {
   "cell_type": "code",
   "execution_count": null,
   "id": "6ec3b1fd-0bfc-484c-b08e-dc4df6def6e5",
   "metadata": {},
   "outputs": [],
   "source": [
    "#reading csv portfolio files\n",
    "whale_df= pd.read_csv(r'C:\\Users\\Yvonne Colangelo\\Downloads\\whale_returns.csv') \n",
    "whale_df['Date']=pd.to_datetime(whale_df['Date'])\n",
    "whale_df.set_index('Date', inplace=True)\n",
    "whale_df.sort_index()\n",
    "\n",
    "#formating the date \n",
    "#whale_df['Date'] = pd.to_datetime(whale_df['Date'].astype(str), infer_datetime_format=True)\n",
    "#whale_df.set_index('Date', inplace = True)\n",
    "\n",
    "\n",
    "#algo_df = pd.read_csv(r'C:\\Users\\Yvonne Colangelo\\Downloads\\algo_returns.csv', index_col = 'Date', infer_datetime_format= True)\n",
    "\n",
    "#tsx60_df['Date']=pd.to_datetime(tsx60_df['Date'])\n",
    "#.dt.normalize()\n",
    "\n",
    "#tsx60_df.set_index('Date', inplace=True)\n",
    "\n",
    "#adding the path to a text file where I am going to display my results\n",
    "result_data = Path(\"C:/Users/Yvonne Colangelo/Portfolio/Portfolio-Analysis/Data_analysis_results.txt\") \n",
    "    \n",
    "#with open(result_data, \"w\") as result_file:\n",
    "    # Writing heading to my text file\n",
    "    #result_file.write(f\"A Whale Off Port(folio)\\n\\n\")\n",
    "    #head_result = whale_df.head()\n",
    "    #result_file.write(f\"Reading the first five items in the dataframe \\n\\n\")\n",
    "    #writing the return to a text file\n",
    "    #result_file.write(f\"{head_result.to_string()}\\n\\n\")\n",
    "\n",
    "    #Counting the nulls in the whales return data and writing them to the result text file\n",
    "    #result_file.write(f\"Null Counts in the Dataframe\\n\\n\")\n",
    "    #null_count = whale_df.isnull().count()\n",
    "    #result_file.write(f\"{null_count.to_string()}\\n\\n\")\n",
    "    #result_file.write(\"\\n\\n\")\n",
    "    \n",
    "    #dropping the nulls in the whales dataframe\n",
    "    #result_file.write(f\"Dropping Nulls in the Dataframe\\n\\n\")\n",
    "    #dropping_nulls = whale_df.dropna(inplace = False)\n",
    "    \n",
    "    #result_file.write(f\"{dropping_nulls.head().to_string()}\\n\\n\")\n",
    "    \n",
    "    #reading Algorithmic daily return\n",
    "    \n",
    "    #result_file.write(\"Reading first five iteams in the Algorithmic Daily Returns Dataframe \\n\\n\")\n",
    "    #result_file.write(f\"{algo_df.head().to_string()}\\n\\n\")\n",
    "    \n",
    "    #counting the nulls in the algorithmic dataframe\n",
    "    #result_file.write(\"Counting the Nulls in the Algorithmic Dataframe\\n\\n\")\n",
    "    #result_file.write(f\"{algo_df.isnull().count().to_string()}\\n\\n\")\n",
    "    \n",
    "    #dropping the nulls in the algorithmic dataframe\n",
    "    #result_file.write(\"Dropping the Null values in the Algorithmic Dataframe\\n\\n\")\n",
    "    #algo_null_drop = algo_df.dropna(inplace=False)\n",
    "    #result_file.write(f\"{algo_null_drop.head().to_string()}\\n\\n\")\n",
    "    \n",
    "    #Reading s&p TSX 60 closing price and listing the first five items\n",
    "    #result_file.write(\"First five iteams of the S&P TSX 60 closing prices Dataframs\\n\\n\")\n",
    "    #result_file.write(f\"{tsx60_df.head().to_string()}\\n\\n\")\n",
    "    \n",
    "    #checking for datatype\n",
    "    #result_file.write(\"Reading data types of the S&P TSX 60 \\n\\n\")\n",
    "    #result_file.write(f\"{tsx60_df.dtypes.to_string()}\\n\\n\")\n",
    "    "
   ]
  },
  {
   "cell_type": "code",
   "execution_count": null,
   "id": "73c82bde-cce0-4c95-9d25-00d64a7ac8b4",
   "metadata": {},
   "outputs": [],
   "source": [
    "#counting the nulls in the whale returns report\n",
    "    \n",
    "whale_df.isnull().count()\n",
    "whale_df.dtypes"
   ]
  },
  {
   "cell_type": "code",
   "execution_count": null,
   "id": "39e265f8-fbe6-4472-94f1-d84945425d6d",
   "metadata": {},
   "outputs": [],
   "source": [
    "#droping the nulls in the whales return report to clean\n",
    "whale_df = whale_df.dropna(inplace = False)\n",
    "whale_df = whale_df.sort_index()\n",
    "\n",
    "whale_df.tail()\n"
   ]
  },
  {
   "cell_type": "code",
   "execution_count": null,
   "id": "e2e6fda9-02fc-43c9-b812-e42fb4df31cc",
   "metadata": {},
   "outputs": [],
   "source": [
    "#reading the algorithmic return\n",
    "algo_df = pd.read_csv(r'C:\\Users\\Yvonne Colangelo\\Downloads\\algo_returns.csv')\n",
    "algo_df['Date']=pd.to_datetime(algo_df['Date'])\n",
    "algo_df.set_index('Date', inplace=True)\n",
    "algo_df.sort_index()\n",
    "\n",
    "\n",
    "algo_df = algo_df.sort_index()\n",
    "algo_df.head()"
   ]
  },
  {
   "cell_type": "code",
   "execution_count": null,
   "id": "a8ff0171-fc40-4cd3-962d-95b2af6af8da",
   "metadata": {},
   "outputs": [],
   "source": [
    "algo_df.isnull().count()\n"
   ]
  },
  {
   "cell_type": "code",
   "execution_count": null,
   "id": "65e8bf69-57c6-4946-8307-9bb492fb0dc8",
   "metadata": {},
   "outputs": [],
   "source": [
    "algo_df.dtypes"
   ]
  },
  {
   "cell_type": "code",
   "execution_count": null,
   "id": "c3cdcf2e-460e-417c-81e2-848831415258",
   "metadata": {},
   "outputs": [],
   "source": [
    "algo_df.dropna(inplace = True)\n",
    "algo_df.head()\n"
   ]
  },
  {
   "cell_type": "code",
   "execution_count": null,
   "id": "0bda3b7e-5202-4170-a9fc-7ec1486d93c8",
   "metadata": {},
   "outputs": [],
   "source": [
    "#reading the S&P TSX 60 historic closing price\n",
    "tsx60_df = pd.read_csv(r'C:\\Users\\Yvonne Colangelo\\Downloads\\sp_tsx_history.csv')\n",
    "tsx60_df['Date']=pd.to_datetime(tsx60_df['Date'])\n",
    "tsx60_df.set_index('Date', inplace=True)\n",
    "tsx60_df.sort_index()\n",
    "tsx60_df.head()\n",
    "\n"
   ]
  },
  {
   "cell_type": "code",
   "execution_count": null,
   "id": "36706ec3-dae9-448d-88ab-ee87178f6199",
   "metadata": {},
   "outputs": [],
   "source": [
    "#checking for the datatype\n",
    "tsx60_df.dtypes"
   ]
  },
  {
   "cell_type": "code",
   "execution_count": null,
   "id": "e52eb98e-4bb0-41e6-96e1-8a2d33d68210",
   "metadata": {},
   "outputs": [],
   "source": [
    "#removing the dollar sign to fix data types\n",
    "tsx60_df[\"Close\"] = tsx60_df[\"Close\"].str.replace(\"$\" , \"\")\n",
    "tsx60_df[\"Close\"] = tsx60_df[\"Close\"].str.replace(\",\" , \"\")\n",
    "tsx60_df[\"Close\"] =tsx60_df[\"Close\"].str.replace(\".\" , \"\")\n",
    "tsx60_df[\"Close\"]"
   ]
  },
  {
   "cell_type": "code",
   "execution_count": null,
   "id": "3616839e-5708-436e-a4fe-24a81031a3c3",
   "metadata": {},
   "outputs": [],
   "source": [
    "#fixing the data types\n",
    "#csv_data[\"order_total\"] = csv_data[\"order_total\"].astype(\"float\")\n",
    "tsx60_df[\"Close\"] = tsx60_df[\"Close\"].astype(\"float\")\n",
    "tsx60_df.head()"
   ]
  },
  {
   "cell_type": "code",
   "execution_count": null,
   "id": "9b557eb2-1f86-4e81-a1c1-cbed7cd5d1f0",
   "metadata": {},
   "outputs": [],
   "source": [
    "tsx60_df.dropna().copy()\n",
    "tsx60_df.isnull().sum()"
   ]
  },
  {
   "cell_type": "code",
   "execution_count": null,
   "id": "728e176c-7241-4e50-bf0e-db9519c66de7",
   "metadata": {},
   "outputs": [],
   "source": [
    "tsx60_df.dtypes"
   ]
  },
  {
   "cell_type": "code",
   "execution_count": null,
   "id": "be875c3a-ae92-4c7c-8704-accf1062c4e2",
   "metadata": {},
   "outputs": [],
   "source": [
    "#calculating daily returns for S&P TSX 60\n",
    "daily_return=tsx60_df.pct_change()\n",
    "#daily_return = (tsx60_df - tsx60_df.shift(1)) / tsx60_df.shift(1)\n",
    "\n",
    "daily_return\n"
   ]
  },
  {
   "cell_type": "code",
   "execution_count": null,
   "id": "fb8c619c-16ac-4daf-bc5a-e60052500fe3",
   "metadata": {},
   "outputs": [],
   "source": [
    "#droping null values\n",
    "new_tsx60 = daily_return.dropna().copy()\n",
    "new_tsx60.isnull().sum()"
   ]
  },
  {
   "cell_type": "code",
   "execution_count": null,
   "id": "a65dca6a-cf51-4105-9877-09a42b6c03c2",
   "metadata": {},
   "outputs": [],
   "source": [
    "#renaming the column\n",
    "tsx60_daily_return = new_tsx60.rename(columns={\"Close\": \"S&P TSX60\"})\n",
    "tsx60_daily_return = pd.DataFrame(tsx60_daily_return)\n",
    "\n",
    "\n",
    "tsx60_daily_return.head()\n"
   ]
  },
  {
   "cell_type": "code",
   "execution_count": null,
   "id": "fa9a4d07-e4dc-4002-b176-ce21d5ca9835",
   "metadata": {},
   "outputs": [],
   "source": [
    "tsx60_daily_return.dtypes"
   ]
  },
  {
   "cell_type": "code",
   "execution_count": null,
   "id": "beff2493-d35a-4059-90a2-05fcd1c562cd",
   "metadata": {},
   "outputs": [],
   "source": [
    "#combine whale Algorithmic and S$P TSX 60 returns\n",
    "combined_df = pd.concat([whale_df, algo_df, tsx60_daily_return], axis =\"columns\" ,join = 'inner')\n",
    "combined_df.head(10)"
   ]
  },
  {
   "cell_type": "code",
   "execution_count": null,
   "id": "4768e343-6a09-4582-828a-799ba00627c9",
   "metadata": {},
   "outputs": [],
   "source": []
  },
  {
   "cell_type": "code",
   "execution_count": null,
   "id": "2686aaaf-1434-4536-8290-6c4ecb55f1c3",
   "metadata": {},
   "outputs": [],
   "source": [
    "combined_df.dtypes"
   ]
  },
  {
   "cell_type": "code",
   "execution_count": null,
   "id": "8d33f064-8ff1-494f-afdf-f0c5c428a00f",
   "metadata": {},
   "outputs": [],
   "source": [
    "#calculating quantitative return \n",
    "#plot daily returns of all potfolios\n",
    "combined_df.plot(title=\"Daily Return for all Portfolios\")"
   ]
  },
  {
   "cell_type": "code",
   "execution_count": null,
   "id": "e7db5f26-f287-4ca0-be8d-4ee136b5b804",
   "metadata": {},
   "outputs": [],
   "source": [
    "#calculate cumulative returns for all portfolios"
   ]
  },
  {
   "cell_type": "code",
   "execution_count": null,
   "id": "69dd240b-fdb0-494c-9331-1c1320b03365",
   "metadata": {},
   "outputs": [],
   "source": []
  }
 ],
 "metadata": {
  "kernelspec": {
   "display_name": "Python 3 (ipykernel)",
   "language": "python",
   "name": "python3"
  },
  "language_info": {
   "codemirror_mode": {
    "name": "ipython",
    "version": 3
   },
   "file_extension": ".py",
   "mimetype": "text/x-python",
   "name": "python",
   "nbconvert_exporter": "python",
   "pygments_lexer": "ipython3",
   "version": "3.9.13"
  }
 },
 "nbformat": 4,
 "nbformat_minor": 5
}
